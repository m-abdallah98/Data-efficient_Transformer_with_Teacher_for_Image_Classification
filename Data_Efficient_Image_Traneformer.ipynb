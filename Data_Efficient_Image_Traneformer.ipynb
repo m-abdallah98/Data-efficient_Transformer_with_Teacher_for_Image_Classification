{
  "nbformat": 4,
  "nbformat_minor": 0,
  "metadata": {
    "colab": {
      "provenance": [],
      "gpuType": "T4"
    },
    "kernelspec": {
      "name": "python3",
      "display_name": "Python 3"
    },
    "language_info": {
      "name": "python"
    },
    "accelerator": "GPU"
  },
  "cells": [
    {
      "cell_type": "markdown",
      "source": [
        "## **Import Libraries and Packages**"
      ],
      "metadata": {
        "id": "toCx48rZz7MZ"
      }
    },
    {
      "cell_type": "code",
      "execution_count": null,
      "metadata": {
        "id": "9btzgCsDHpY3"
      },
      "outputs": [],
      "source": [
        "import tensorflow as tf\n",
        "from tensorflow import keras\n",
        "from keras.models import Model\n",
        "from keras.layers import Input,Dense,Flatten,Dropout, Concatenate, BatchNormalization, Conv2D\n",
        "\n",
        "from keras.preprocessing import image\n",
        "from keras.preprocessing.image import ImageDataGenerator\n",
        "\n",
        "import numpy as np\n",
        "import matplotlib.pyplot as plt\n",
        "\n",
        "\n",
        "from glob import glob\n"
      ]
    },
    {
      "cell_type": "code",
      "source": [
        "from keras.applications.resnet_v2 import ResNet50V2\n",
        "from keras.applications.vgg19 import VGG19 ,preprocess_input"
      ],
      "metadata": {
        "id": "3LUgMw8bRaMU"
      },
      "execution_count": null,
      "outputs": []
    },
    {
      "cell_type": "code",
      "source": [
        "from keras.losses import BinaryCrossentropy,CategoricalCrossentropy, SparseCategoricalCrossentropy\n",
        "from keras.metrics import Accuracy,TopKCategoricalAccuracy, CategoricalAccuracy, SparseCategoricalAccuracy\n",
        "from keras.optimizers import Adam, SGD\n",
        "from keras.callbacks import (Callback, CSVLogger, EarlyStopping, LearningRateScheduler,\n",
        "                                        ModelCheckpoint, ReduceLROnPlateau)"
      ],
      "metadata": {
        "id": "TPkoUdXpQD7_"
      },
      "execution_count": null,
      "outputs": []
    },
    {
      "cell_type": "markdown",
      "source": [
        "## **Downloading Data**"
      ],
      "metadata": {
        "id": "zn63oAsuzykB"
      }
    },
    {
      "cell_type": "code",
      "source": [
        "!gdown --id 1FxvmwTrYZsMyCMfH_mcrLJ2oStXABQG_"
      ],
      "metadata": {
        "colab": {
          "base_uri": "https://localhost:8080/"
        },
        "id": "ExmhSRY9xgdW",
        "outputId": "c4dc18a9-bbda-45db-e6a7-2d237562fffb"
      },
      "execution_count": null,
      "outputs": [
        {
          "output_type": "stream",
          "name": "stdout",
          "text": [
            "/usr/local/lib/python3.10/dist-packages/gdown/cli.py:121: FutureWarning: Option `--id` was deprecated in version 4.3.1 and will be removed in 5.0. You don't need to pass it anymore to use a file ID.\n",
            "  warnings.warn(\n",
            "Downloading...\n",
            "From: https://drive.google.com/uc?id=1FxvmwTrYZsMyCMfH_mcrLJ2oStXABQG_\n",
            "To: /content/dataset.zip\n",
            "100% 1.26G/1.26G [00:38<00:00, 32.3MB/s]\n"
          ]
        }
      ]
    },
    {
      "cell_type": "markdown",
      "source": [
        "## **Creating Dataset**"
      ],
      "metadata": {
        "id": "KexU2tfG0CtX"
      }
    },
    {
      "cell_type": "code",
      "source": [
        "!mkdir datasets"
      ],
      "metadata": {
        "id": "wedwgo1mxgb0"
      },
      "execution_count": null,
      "outputs": []
    },
    {
      "cell_type": "code",
      "source": [
        "import zipfile\n",
        "zip_ref = zipfile.ZipFile('dataset.zip','r')\n",
        "zip_ref.extractall('/content/datasets')\n",
        "zip_ref.close()"
      ],
      "metadata": {
        "id": "qQgYCCjmxgYH"
      },
      "execution_count": null,
      "outputs": []
    },
    {
      "cell_type": "code",
      "source": [
        "import os"
      ],
      "metadata": {
        "id": "NWpwr7_Zx2h7"
      },
      "execution_count": null,
      "outputs": []
    },
    {
      "cell_type": "code",
      "source": [
        "x = os.listdir(\"/content/datasets/chest_xray/test/PNEUMONIA\")\n",
        "y = os.listdir(\"/content/datasets/chest_xray/test/NORMAL\")"
      ],
      "metadata": {
        "id": "LfRVUdx9xgWm"
      },
      "execution_count": null,
      "outputs": []
    },
    {
      "cell_type": "code",
      "source": [
        "Train_path = \"/content/datasets/chest_xray/train\"\n",
        "Test_path = \"/content/datasets/chest_xray/test\"\n",
        "\n",
        "img_size = [224,224]\n",
        "batch_sze = 32\n",
        "epochs = 15\n"
      ],
      "metadata": {
        "id": "G86sA95BxysX"
      },
      "execution_count": null,
      "outputs": []
    },
    {
      "cell_type": "markdown",
      "source": [
        "### **Creating ImageDataGenerator instance**"
      ],
      "metadata": {
        "id": "OE8u2Ts227Jm"
      }
    },
    {
      "cell_type": "code",
      "source": [
        "img_gen = ImageDataGenerator(rescale=1./255,\n",
        "    rotation_range=15,\n",
        "    zoom_range=0.1,\n",
        "    width_shift_range=0.1,\n",
        "    shear_range=0.1,\n",
        "    height_shift_range=0.1,\n",
        "    horizontal_flip=True,\n",
        "    vertical_flip=False,\n",
        "\n",
        ")\n",
        "\n",
        "train_gen = img_gen.flow_from_directory(\n",
        "    \"/content/datasets/chest_xray/train\",\n",
        "    target_size=img_size,\n",
        "    batch_size= batch_sze,\n",
        "    class_mode=\"categorical\",\n",
        ")\n",
        "\n",
        "\n",
        "\n",
        "\n",
        "valid_gen = img_gen.flow_from_directory(\n",
        "    \"/content/datasets/chest_xray/test\",\n",
        "    target_size=img_size,\n",
        "    batch_size= batch_sze,\n",
        "    class_mode=\"categorical\",\n",
        ")"
      ],
      "metadata": {
        "colab": {
          "base_uri": "https://localhost:8080/"
        },
        "id": "oOI_msvlQyk0",
        "outputId": "656e5b40-222b-401b-9f54-6ab4cb193337"
      },
      "execution_count": null,
      "outputs": [
        {
          "output_type": "stream",
          "name": "stdout",
          "text": [
            "Found 5232 images belonging to 2 classes.\n",
            "Found 624 images belonging to 2 classes.\n"
          ]
        }
      ]
    },
    {
      "cell_type": "code",
      "source": [
        "len(train_gen)"
      ],
      "metadata": {
        "colab": {
          "base_uri": "https://localhost:8080/"
        },
        "id": "ZoO19fv-5_9k",
        "outputId": "1f7ffdae-72c0-4253-a923-784c74d7f7c7"
      },
      "execution_count": null,
      "outputs": [
        {
          "output_type": "execute_result",
          "data": {
            "text/plain": [
              "164"
            ]
          },
          "metadata": {},
          "execution_count": 23
        }
      ]
    },
    {
      "cell_type": "markdown",
      "source": [
        "## **Using HuggingFace Transformers**"
      ],
      "metadata": {
        "id": "HJZUyN770KQd"
      }
    },
    {
      "cell_type": "code",
      "source": [
        "! pip install datasets transformers"
      ],
      "metadata": {
        "id": "tGs-q9u02N7O"
      },
      "execution_count": null,
      "outputs": []
    },
    {
      "cell_type": "markdown",
      "source": [
        "## **Data-efficient Image Transsformer With Teacher**"
      ],
      "metadata": {
        "id": "CW75zRlw0WgR"
      }
    },
    {
      "cell_type": "code",
      "source": [
        "from transformers import TFDeiTForImageClassificationWithTeacher"
      ],
      "metadata": {
        "id": "0yMu9E0O2gKS"
      },
      "execution_count": null,
      "outputs": []
    },
    {
      "cell_type": "markdown",
      "source": [
        "![image.png](data:image/png;base64,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)"
      ],
      "metadata": {
        "id": "Pm66p6pG0h-u"
      }
    },
    {
      "cell_type": "markdown",
      "source": [
        "## **Creating Complete Model**"
      ],
      "metadata": {
        "id": "iM9xHcYm1H96"
      }
    },
    {
      "cell_type": "code",
      "source": [
        "base_model = TFDeiTForImageClassificationWithTeacher.from_pretrained(model_name_or_path, ignore_mismatched_sizes =True)\n",
        "base_model.trainable=False"
      ],
      "metadata": {
        "id": "3m5RnjAw2hvi",
        "colab": {
          "base_uri": "https://localhost:8080/"
        },
        "outputId": "6e838e9c-aa60-453a-cf6e-f8ca70076d99"
      },
      "execution_count": null,
      "outputs": [
        {
          "output_type": "stream",
          "name": "stderr",
          "text": [
            "All model checkpoint layers were used when initializing TFDeiTForImageClassificationWithTeacher.\n",
            "\n",
            "All the layers of TFDeiTForImageClassificationWithTeacher were initialized from the model checkpoint at facebook/deit-base-distilled-patch16-224.\n",
            "If your task is similar to the task the model of the checkpoint was trained on, you can already use TFDeiTForImageClassificationWithTeacher for predictions without further training.\n"
          ]
        }
      ]
    },
    {
      "cell_type": "code",
      "source": [
        "inputs = Input(shape = (3,224,224))\n",
        "x = base_model(inputs)['cls_logits']\n",
        "\n",
        "#x = base_model.get_layer('deit')(inputs)[0][:,0,:]\n",
        "x = Dense(2,activation='softmax')(x)"
      ],
      "metadata": {
        "id": "_yG2uzyN2hqU"
      },
      "execution_count": null,
      "outputs": []
    },
    {
      "cell_type": "code",
      "source": [
        "model = Model(inputs = inputs,outputs = x)"
      ],
      "metadata": {
        "id": "8FR4UW2l2hmo"
      },
      "execution_count": null,
      "outputs": []
    },
    {
      "cell_type": "code",
      "source": [
        "loss_function = CategoricalCrossentropy()\n",
        "metrics = [\"accuracy\"]"
      ],
      "metadata": {
        "id": "lZEyqAhc2hlQ"
      },
      "execution_count": null,
      "outputs": []
    },
    {
      "cell_type": "code",
      "source": [
        "model.compile(optimizer = Adam(learning_rate = .001),\n",
        "  loss = loss_function,\n",
        "  metrics = metrics)"
      ],
      "metadata": {
        "id": "LooBkji128In"
      },
      "execution_count": null,
      "outputs": []
    },
    {
      "cell_type": "markdown",
      "source": [
        "### **Preparing Data to the DeiTFeatureExtractor**"
      ],
      "metadata": {
        "id": "Okf68HqK2eC7"
      }
    },
    {
      "cell_type": "code",
      "source": [
        "X_train = []\n",
        "y_train = []\n",
        "\n",
        "for _ in range(50):\n",
        "    images, labels = next(train_gen)\n",
        "    X_train.append(images)\n",
        "    y_train.append(labels)\n",
        "\n",
        "X_train[0].shape"
      ],
      "metadata": {
        "id": "rpo-lPCf4IYB",
        "colab": {
          "base_uri": "https://localhost:8080/"
        },
        "outputId": "00604b3a-b3cd-4d7c-ff58-976194c8ec05"
      },
      "execution_count": null,
      "outputs": [
        {
          "output_type": "execute_result",
          "data": {
            "text/plain": [
              "(32, 224, 224, 3)"
            ]
          },
          "metadata": {},
          "execution_count": 24
        }
      ]
    },
    {
      "cell_type": "code",
      "source": [
        "X_train = tf.concat(X_train, axis=0)\n",
        "y_train = tf.concat(y_train,axis=0).numpy()"
      ],
      "metadata": {
        "id": "mx0J-CXuWfs8"
      },
      "execution_count": null,
      "outputs": []
    },
    {
      "cell_type": "code",
      "source": [
        "y_train.shape"
      ],
      "metadata": {
        "colab": {
          "base_uri": "https://localhost:8080/"
        },
        "id": "ucezapG0egYb",
        "outputId": "f85ea344-dfd4-4853-f866-b31d5fd2a78a"
      },
      "execution_count": null,
      "outputs": [
        {
          "output_type": "execute_result",
          "data": {
            "text/plain": [
              "(1600, 2)"
            ]
          },
          "metadata": {},
          "execution_count": 26
        }
      ]
    },
    {
      "cell_type": "code",
      "source": [
        "X_val = []\n",
        "y_val = []\n",
        "\n",
        "for _ in range(10):\n",
        "    images, labels = next(valid_gen)\n",
        "    X_val.append(images)\n",
        "    y_val.append(labels)\n",
        "\n",
        "X_val = tf.concat(X_val, axis=0)\n",
        "y_val = tf.concat(y_val,axis=0).numpy()"
      ],
      "metadata": {
        "id": "THrZhgp63ITb"
      },
      "execution_count": null,
      "outputs": []
    },
    {
      "cell_type": "markdown",
      "source": [
        "## **Doing the required preprocessing to the input tensor of images**"
      ],
      "metadata": {
        "id": "cQuWaqaJ1f-t"
      }
    },
    {
      "cell_type": "code",
      "source": [
        "from transformers import DeiTFeatureExtractor\n",
        "\n",
        "model_name_or_path = 'facebook/deit-base-distilled-patch16-224'\n",
        "feature_extractor = DeiTFeatureExtractor.from_pretrained(model_name_or_path)\n",
        "#feature_extractor.do_normalize=False"
      ],
      "metadata": {
        "id": "Ft9uzory2N2J",
        "colab": {
          "base_uri": "https://localhost:8080/"
        },
        "outputId": "b4c5636c-0326-4d7a-e9bd-5173e8454180"
      },
      "execution_count": null,
      "outputs": [
        {
          "output_type": "stream",
          "name": "stderr",
          "text": [
            "/usr/local/lib/python3.10/dist-packages/transformers/models/deit/feature_extraction_deit.py:28: FutureWarning: The class DeiTFeatureExtractor is deprecated and will be removed in version 5 of Transformers. Please use DeiTImageProcessor instead.\n",
            "  warnings.warn(\n"
          ]
        }
      ]
    },
    {
      "cell_type": "code",
      "source": [
        "feature_extractor"
      ],
      "metadata": {
        "id": "8ftr3YCw11Pq"
      },
      "execution_count": null,
      "outputs": []
    },
    {
      "cell_type": "code",
      "source": [
        "X_features = feature_extractor(X_train, return_tensors='tf')['pixel_values']\n",
        "X_features_val = feature_extractor(X_val, return_tensors='tf')['pixel_values']"
      ],
      "metadata": {
        "id": "dXdvQSp54QnV"
      },
      "execution_count": null,
      "outputs": []
    },
    {
      "cell_type": "markdown",
      "source": [
        "## **Training**"
      ],
      "metadata": {
        "id": "-k-W01gW2Jdh"
      }
    },
    {
      "cell_type": "code",
      "source": [
        "model.fit(x=X_features,y= y_train, validation_data=(X_features_val, y_val),epochs = 20 )"
      ],
      "metadata": {
        "id": "vXLyustG28Go",
        "colab": {
          "base_uri": "https://localhost:8080/"
        },
        "outputId": "ec2a9e83-16d7-4f48-81b4-84d18e2a8260"
      },
      "execution_count": null,
      "outputs": [
        {
          "output_type": "stream",
          "name": "stdout",
          "text": [
            "Epoch 1/20\n",
            "50/50 [==============================] - 37s 608ms/step - loss: 0.5235 - accuracy: 0.7381 - val_loss: 0.6342 - val_accuracy: 0.6094\n",
            "Epoch 2/20\n",
            "50/50 [==============================] - 30s 597ms/step - loss: 0.4484 - accuracy: 0.7625 - val_loss: 0.5767 - val_accuracy: 0.6781\n",
            "Epoch 3/20\n",
            "50/50 [==============================] - 28s 561ms/step - loss: 0.4285 - accuracy: 0.7700 - val_loss: 0.5561 - val_accuracy: 0.7063\n",
            "Epoch 4/20\n",
            "50/50 [==============================] - 29s 581ms/step - loss: 0.4074 - accuracy: 0.7981 - val_loss: 0.6477 - val_accuracy: 0.6531\n",
            "Epoch 5/20\n",
            "50/50 [==============================] - 29s 576ms/step - loss: 0.3979 - accuracy: 0.8025 - val_loss: 0.5430 - val_accuracy: 0.7094\n",
            "Epoch 6/20\n",
            "50/50 [==============================] - 28s 569ms/step - loss: 0.3887 - accuracy: 0.8225 - val_loss: 0.5873 - val_accuracy: 0.7000\n",
            "Epoch 7/20\n",
            "50/50 [==============================] - 29s 575ms/step - loss: 0.3796 - accuracy: 0.8188 - val_loss: 0.5465 - val_accuracy: 0.7094\n",
            "Epoch 8/20\n",
            "50/50 [==============================] - 29s 576ms/step - loss: 0.3721 - accuracy: 0.8238 - val_loss: 0.5626 - val_accuracy: 0.7063\n",
            "Epoch 9/20\n",
            "50/50 [==============================] - 28s 571ms/step - loss: 0.3722 - accuracy: 0.8256 - val_loss: 0.6048 - val_accuracy: 0.7094\n",
            "Epoch 10/20\n",
            "50/50 [==============================] - 28s 572ms/step - loss: 0.3626 - accuracy: 0.8256 - val_loss: 0.5949 - val_accuracy: 0.7031\n",
            "Epoch 11/20\n",
            "50/50 [==============================] - 29s 576ms/step - loss: 0.3598 - accuracy: 0.8363 - val_loss: 0.5735 - val_accuracy: 0.7219\n",
            "Epoch 12/20\n",
            "50/50 [==============================] - 29s 575ms/step - loss: 0.3564 - accuracy: 0.8356 - val_loss: 0.5737 - val_accuracy: 0.7125\n",
            "Epoch 13/20\n",
            "50/50 [==============================] - 29s 573ms/step - loss: 0.3522 - accuracy: 0.8381 - val_loss: 0.5802 - val_accuracy: 0.7094\n",
            "Epoch 14/20\n",
            "50/50 [==============================] - 28s 570ms/step - loss: 0.3480 - accuracy: 0.8369 - val_loss: 0.5853 - val_accuracy: 0.7094\n",
            "Epoch 15/20\n",
            "50/50 [==============================] - 29s 572ms/step - loss: 0.3504 - accuracy: 0.8400 - val_loss: 0.6015 - val_accuracy: 0.7000\n",
            "Epoch 16/20\n",
            "50/50 [==============================] - 29s 584ms/step - loss: 0.3442 - accuracy: 0.8413 - val_loss: 0.5527 - val_accuracy: 0.7281\n",
            "Epoch 17/20\n",
            "50/50 [==============================] - 29s 580ms/step - loss: 0.3428 - accuracy: 0.8450 - val_loss: 0.5374 - val_accuracy: 0.7312\n",
            "Epoch 18/20\n",
            "50/50 [==============================] - 29s 577ms/step - loss: 0.3452 - accuracy: 0.8369 - val_loss: 0.6383 - val_accuracy: 0.6938\n",
            "Epoch 19/20\n",
            "50/50 [==============================] - 29s 578ms/step - loss: 0.3390 - accuracy: 0.8419 - val_loss: 0.5820 - val_accuracy: 0.7063\n",
            "Epoch 20/20\n",
            "50/50 [==============================] - 28s 572ms/step - loss: 0.3378 - accuracy: 0.8512 - val_loss: 0.5433 - val_accuracy: 0.7344\n"
          ]
        },
        {
          "output_type": "execute_result",
          "data": {
            "text/plain": [
              "<keras.callbacks.History at 0x7cca1c12bc40>"
            ]
          },
          "metadata": {},
          "execution_count": 34
        }
      ]
    },
    {
      "cell_type": "markdown",
      "source": [
        "## **Evaluation**"
      ],
      "metadata": {
        "id": "CL7tXdlT2P7y"
      }
    },
    {
      "cell_type": "code",
      "source": [
        "model.evaluate(X_features_val, y_val)"
      ],
      "metadata": {
        "colab": {
          "base_uri": "https://localhost:8080/"
        },
        "id": "qorr0PEAszyr",
        "outputId": "e6d7eed3-b8cc-4ceb-beed-f428697862e8"
      },
      "execution_count": null,
      "outputs": [
        {
          "output_type": "stream",
          "name": "stdout",
          "text": [
            "10/10 [==============================] - 5s 468ms/step - loss: 0.5433 - accuracy: 0.7344\n"
          ]
        },
        {
          "output_type": "execute_result",
          "data": {
            "text/plain": [
              "[0.5433226823806763, 0.734375]"
            ]
          },
          "metadata": {},
          "execution_count": 35
        }
      ]
    },
    {
      "cell_type": "code",
      "source": [
        "predictions = model.predict(X_features_val)"
      ],
      "metadata": {
        "id": "VOynnyGO28An",
        "colab": {
          "base_uri": "https://localhost:8080/"
        },
        "outputId": "b5a28697-2a17-472d-bbac-e65d8c704ff6"
      },
      "execution_count": null,
      "outputs": [
        {
          "output_type": "stream",
          "name": "stdout",
          "text": [
            "10/10 [==============================] - 6s 477ms/step\n"
          ]
        }
      ]
    },
    {
      "cell_type": "code",
      "source": [
        "predictions = np.argmax(predictions, axis = 1 )\n",
        "y_true = np.argmax(y_val, axis = 1 )"
      ],
      "metadata": {
        "id": "PL7CA3-Vreld"
      },
      "execution_count": null,
      "outputs": []
    },
    {
      "cell_type": "code",
      "source": [
        "from sklearn.metrics import confusion_matrix, ConfusionMatrixDisplay"
      ],
      "metadata": {
        "id": "510GYKWireii"
      },
      "execution_count": null,
      "outputs": []
    },
    {
      "cell_type": "code",
      "source": [
        "cm = confusion_matrix(y_true,predictions)"
      ],
      "metadata": {
        "id": "QSGFA5Sfregp"
      },
      "execution_count": null,
      "outputs": []
    },
    {
      "cell_type": "code",
      "source": [
        "ConfusionMatrixDisplay(cm).plot()"
      ],
      "metadata": {
        "colab": {
          "base_uri": "https://localhost:8080/",
          "height": 467
        },
        "id": "oeCtFSubrlMB",
        "outputId": "96c566ca-c339-432d-bc85-a863b6c91dfe"
      },
      "execution_count": null,
      "outputs": [
        {
          "output_type": "execute_result",
          "data": {
            "text/plain": [
              "<sklearn.metrics._plot.confusion_matrix.ConfusionMatrixDisplay at 0x7cca6023f5b0>"
            ]
          },
          "metadata": {},
          "execution_count": 40
        },
        {
          "output_type": "display_data",
          "data": {
            "text/plain": [
              "<Figure size 640x480 with 2 Axes>"
            ],
            "image/png": "[encoded data removed]"
          },
          "metadata": {}
        }
      ]
    }
  ]
}